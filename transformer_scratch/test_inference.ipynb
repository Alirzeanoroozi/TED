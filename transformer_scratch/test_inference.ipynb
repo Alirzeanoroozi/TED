{
 "cells": [
  {
   "cell_type": "code",
   "execution_count": 2,
   "id": "31b3cfed",
   "metadata": {},
   "outputs": [
    {
     "name": "stdout",
     "output_type": "stream",
     "text": [
      "24\n"
     ]
    }
   ],
   "source": [
    "seq = \"MALWMRLLPLLALLALWGPDPAAA\"\n",
    "print(len(seq))"
   ]
  },
  {
   "cell_type": "code",
   "execution_count": 3,
   "id": "0ebd7e83",
   "metadata": {},
   "outputs": [
    {
     "name": "stdout",
     "output_type": "stream",
     "text": [
      "torch.Size([26, 960])\n"
     ]
    }
   ],
   "source": [
    "from esm.models.esmc import ESMC\n",
    "from esm.sdk.api import ESMProtein, LogitsConfig\n",
    "import torch\n",
    "\n",
    "device = \"cuda\" if torch.cuda.is_available() else \"cpu\"\n",
    "\n",
    "client = ESMC.from_pretrained(\"esmc_300m\").to(device) # or \"cpu\"\n",
    "\n",
    "protein = ESMProtein(sequence=seq)\n",
    "protein_tensor = client.encode(protein)\n",
    "logits_output = client.logits(protein_tensor, LogitsConfig(sequence=True, return_embeddings=True))\n",
    "\n",
    "print(logits_output.embeddings[0].detach().shape)"
   ]
  },
  {
   "cell_type": "code",
   "execution_count": null,
   "id": "f590000e",
   "metadata": {},
   "outputs": [],
   "source": []
  }
 ],
 "metadata": {
  "kernelspec": {
   "display_name": "new_ted",
   "language": "python",
   "name": "python3"
  },
  "language_info": {
   "codemirror_mode": {
    "name": "ipython",
    "version": 3
   },
   "file_extension": ".py",
   "mimetype": "text/x-python",
   "name": "python",
   "nbconvert_exporter": "python",
   "pygments_lexer": "ipython3",
   "version": "3.10.18"
  }
 },
 "nbformat": 4,
 "nbformat_minor": 5
}
